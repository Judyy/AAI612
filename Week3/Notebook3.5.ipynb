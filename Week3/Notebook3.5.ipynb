{
 "cells": [
  {
   "cell_type": "markdown",
   "metadata": {},
   "source": [
    "\n",
    "\n",
    "# AAI612: Deep Learning & its Applications\n",
    "\n",
    "\n",
    "*Notebook 3.5: Detecting Breast Cancer*\n",
    "\n",
    "<a href=\"https://colab.research.google.com/github/harmanani/AAI612/blob/main/Week3/Notebook3.2.ipynb\" target=\"_parent\"><img src=\"https://colab.research.google.com/assets/colab-badge.svg\" alt=\"Open In Colab\"/></a>"
   ]
  },
  {
   "cell_type": "markdown",
   "metadata": {},
   "source": [
    "# Breast Cancer Detection"
   ]
  },
  {
   "cell_type": "markdown",
   "metadata": {},
   "source": [
    "Breast cancer is the most common malignancy among women, accounting for nearly 1 in 3 cancers diagnosed among women in the United States, and it is the second leading cause of cancer death among women. Breast Cancer occurs as a results of abnormal growth of cells in the breast tissue, commonly referred to as a Tumor. A tumor does not mean cancer - tumors can be benign (not cancerous), pre-malignant (pre-cancerous), or malignant (cancerous). Tests such as MRI, mammogram, ultrasound and biopsy are commonly used to diagnose breast cancer performed."
   ]
  },
  {
   "cell_type": "markdown",
   "metadata": {},
   "source": [
    "## Dataset"
   ]
  },
  {
   "cell_type": "markdown",
   "metadata": {},
   "source": [
    "This is an analysis of the Breast Cancer Wisconsin (Diagnostic) [DataSet](https://archive.ics.uci.edu/ml/datasets/Breast+Cancer+Wisconsin+%28Diagnostic%29). This data set was created by Dr. William H. Wolberg, physician at the University Of Wisconsin Hospital at Madison, Wisconsin,USA. To create the dataset Dr. Wolberg used fluid samples, taken from patients with solid breast masses and an easy-to-use graphical computer program called Xcyt, which is capable of perform the analysis of cytological features based on a digital scan. The program uses a curve-fitting algorithm, to compute ten features from each one of the cells in the sample, than it calculates the mean value, extreme value and standard error of each feature for the image, returning a 30 real-valuated vector\n",
    "\n",
    "Attribute Information:\n",
    "\n",
    "- ID number \n",
    "- Diagnosis (M = malignant, B = benign) 3-32\n",
    "\n",
    "Ten real-valued features are computed for each cell nucleus:\n",
    "\n",
    "1) radius (mean of distances from center to points on the perimeter) \n",
    "2) texture (standard deviation of gray-scale values) \n",
    "3) perimeter \n",
    "4) area \n",
    "5) smoothness (local variation in radius lengths) \n",
    "6) compactness (perimeter^2 / area - 1.0) \n",
    "7) concavity (severity of concave portions of the contour) \n",
    "8) concave points (number of concave portions of the contour) \n",
    "9) symmetry \n",
    "10) fractal dimension (\"coastline approximation\" - 1)\n",
    "\n",
    "The mean, standard error and \"worst\" or largest (mean of the three largest values) of these features were computed for each image, resulting in 30 features. For instance, field 3 is Mean Radius, field 13 is Radius SE, field 23 is Worst Radius.\n",
    "\n",
    "All feature values are recoded with four significant digits.  There are no missing attribute values.  The class distribution is 357 benign and 212 malignant."
   ]
  },
  {
   "cell_type": "markdown",
   "metadata": {},
   "source": [
    "## The Problem"
   ]
  },
  {
   "cell_type": "markdown",
   "metadata": {},
   "source": [
    "The objective is to classify whether the breast cancer is benign or malignant.  Let us start by importing the dataset:"
   ]
  },
  {
   "cell_type": "code",
   "execution_count": 7,
   "metadata": {},
   "outputs": [],
   "source": [
    "# Importing libraries\n",
    "import pandas as pd\n",
    "import numpy as np"
   ]
  },
  {
   "cell_type": "code",
   "execution_count": 9,
   "metadata": {},
   "outputs": [
    {
     "data": {
      "text/html": [
       "<div>\n",
       "<style scoped>\n",
       "    .dataframe tbody tr th:only-of-type {\n",
       "        vertical-align: middle;\n",
       "    }\n",
       "\n",
       "    .dataframe tbody tr th {\n",
       "        vertical-align: top;\n",
       "    }\n",
       "\n",
       "    .dataframe thead th {\n",
       "        text-align: right;\n",
       "    }\n",
       "</style>\n",
       "<table border=\"1\" class=\"dataframe\">\n",
       "  <thead>\n",
       "    <tr style=\"text-align: right;\">\n",
       "      <th></th>\n",
       "      <th>id</th>\n",
       "      <th>diagnosis</th>\n",
       "      <th>radius_mean</th>\n",
       "      <th>texture_mean</th>\n",
       "      <th>perimeter_mean</th>\n",
       "      <th>area_mean</th>\n",
       "      <th>smoothness_mean</th>\n",
       "      <th>compactness_mean</th>\n",
       "      <th>concavity_mean</th>\n",
       "      <th>concave points_mean</th>\n",
       "      <th>...</th>\n",
       "      <th>texture_worst</th>\n",
       "      <th>perimeter_worst</th>\n",
       "      <th>area_worst</th>\n",
       "      <th>smoothness_worst</th>\n",
       "      <th>compactness_worst</th>\n",
       "      <th>concavity_worst</th>\n",
       "      <th>concave points_worst</th>\n",
       "      <th>symmetry_worst</th>\n",
       "      <th>fractal_dimension_worst</th>\n",
       "      <th>Unnamed: 32</th>\n",
       "    </tr>\n",
       "  </thead>\n",
       "  <tbody>\n",
       "    <tr>\n",
       "      <th>0</th>\n",
       "      <td>842302</td>\n",
       "      <td>M</td>\n",
       "      <td>17.99</td>\n",
       "      <td>10.38</td>\n",
       "      <td>122.80</td>\n",
       "      <td>1001.0</td>\n",
       "      <td>0.11840</td>\n",
       "      <td>0.27760</td>\n",
       "      <td>0.30010</td>\n",
       "      <td>0.14710</td>\n",
       "      <td>...</td>\n",
       "      <td>17.33</td>\n",
       "      <td>184.60</td>\n",
       "      <td>2019.0</td>\n",
       "      <td>0.1622</td>\n",
       "      <td>0.6656</td>\n",
       "      <td>0.7119</td>\n",
       "      <td>0.2654</td>\n",
       "      <td>0.4601</td>\n",
       "      <td>0.11890</td>\n",
       "      <td>NaN</td>\n",
       "    </tr>\n",
       "    <tr>\n",
       "      <th>1</th>\n",
       "      <td>842517</td>\n",
       "      <td>M</td>\n",
       "      <td>20.57</td>\n",
       "      <td>17.77</td>\n",
       "      <td>132.90</td>\n",
       "      <td>1326.0</td>\n",
       "      <td>0.08474</td>\n",
       "      <td>0.07864</td>\n",
       "      <td>0.08690</td>\n",
       "      <td>0.07017</td>\n",
       "      <td>...</td>\n",
       "      <td>23.41</td>\n",
       "      <td>158.80</td>\n",
       "      <td>1956.0</td>\n",
       "      <td>0.1238</td>\n",
       "      <td>0.1866</td>\n",
       "      <td>0.2416</td>\n",
       "      <td>0.1860</td>\n",
       "      <td>0.2750</td>\n",
       "      <td>0.08902</td>\n",
       "      <td>NaN</td>\n",
       "    </tr>\n",
       "    <tr>\n",
       "      <th>2</th>\n",
       "      <td>84300903</td>\n",
       "      <td>M</td>\n",
       "      <td>19.69</td>\n",
       "      <td>21.25</td>\n",
       "      <td>130.00</td>\n",
       "      <td>1203.0</td>\n",
       "      <td>0.10960</td>\n",
       "      <td>0.15990</td>\n",
       "      <td>0.19740</td>\n",
       "      <td>0.12790</td>\n",
       "      <td>...</td>\n",
       "      <td>25.53</td>\n",
       "      <td>152.50</td>\n",
       "      <td>1709.0</td>\n",
       "      <td>0.1444</td>\n",
       "      <td>0.4245</td>\n",
       "      <td>0.4504</td>\n",
       "      <td>0.2430</td>\n",
       "      <td>0.3613</td>\n",
       "      <td>0.08758</td>\n",
       "      <td>NaN</td>\n",
       "    </tr>\n",
       "    <tr>\n",
       "      <th>3</th>\n",
       "      <td>84348301</td>\n",
       "      <td>M</td>\n",
       "      <td>11.42</td>\n",
       "      <td>20.38</td>\n",
       "      <td>77.58</td>\n",
       "      <td>386.1</td>\n",
       "      <td>0.14250</td>\n",
       "      <td>0.28390</td>\n",
       "      <td>0.24140</td>\n",
       "      <td>0.10520</td>\n",
       "      <td>...</td>\n",
       "      <td>26.50</td>\n",
       "      <td>98.87</td>\n",
       "      <td>567.7</td>\n",
       "      <td>0.2098</td>\n",
       "      <td>0.8663</td>\n",
       "      <td>0.6869</td>\n",
       "      <td>0.2575</td>\n",
       "      <td>0.6638</td>\n",
       "      <td>0.17300</td>\n",
       "      <td>NaN</td>\n",
       "    </tr>\n",
       "    <tr>\n",
       "      <th>4</th>\n",
       "      <td>84358402</td>\n",
       "      <td>M</td>\n",
       "      <td>20.29</td>\n",
       "      <td>14.34</td>\n",
       "      <td>135.10</td>\n",
       "      <td>1297.0</td>\n",
       "      <td>0.10030</td>\n",
       "      <td>0.13280</td>\n",
       "      <td>0.19800</td>\n",
       "      <td>0.10430</td>\n",
       "      <td>...</td>\n",
       "      <td>16.67</td>\n",
       "      <td>152.20</td>\n",
       "      <td>1575.0</td>\n",
       "      <td>0.1374</td>\n",
       "      <td>0.2050</td>\n",
       "      <td>0.4000</td>\n",
       "      <td>0.1625</td>\n",
       "      <td>0.2364</td>\n",
       "      <td>0.07678</td>\n",
       "      <td>NaN</td>\n",
       "    </tr>\n",
       "    <tr>\n",
       "      <th>5</th>\n",
       "      <td>843786</td>\n",
       "      <td>M</td>\n",
       "      <td>12.45</td>\n",
       "      <td>15.70</td>\n",
       "      <td>82.57</td>\n",
       "      <td>477.1</td>\n",
       "      <td>0.12780</td>\n",
       "      <td>0.17000</td>\n",
       "      <td>0.15780</td>\n",
       "      <td>0.08089</td>\n",
       "      <td>...</td>\n",
       "      <td>23.75</td>\n",
       "      <td>103.40</td>\n",
       "      <td>741.6</td>\n",
       "      <td>0.1791</td>\n",
       "      <td>0.5249</td>\n",
       "      <td>0.5355</td>\n",
       "      <td>0.1741</td>\n",
       "      <td>0.3985</td>\n",
       "      <td>0.12440</td>\n",
       "      <td>NaN</td>\n",
       "    </tr>\n",
       "    <tr>\n",
       "      <th>6</th>\n",
       "      <td>844359</td>\n",
       "      <td>M</td>\n",
       "      <td>18.25</td>\n",
       "      <td>19.98</td>\n",
       "      <td>119.60</td>\n",
       "      <td>1040.0</td>\n",
       "      <td>0.09463</td>\n",
       "      <td>0.10900</td>\n",
       "      <td>0.11270</td>\n",
       "      <td>0.07400</td>\n",
       "      <td>...</td>\n",
       "      <td>27.66</td>\n",
       "      <td>153.20</td>\n",
       "      <td>1606.0</td>\n",
       "      <td>0.1442</td>\n",
       "      <td>0.2576</td>\n",
       "      <td>0.3784</td>\n",
       "      <td>0.1932</td>\n",
       "      <td>0.3063</td>\n",
       "      <td>0.08368</td>\n",
       "      <td>NaN</td>\n",
       "    </tr>\n",
       "    <tr>\n",
       "      <th>7</th>\n",
       "      <td>84458202</td>\n",
       "      <td>M</td>\n",
       "      <td>13.71</td>\n",
       "      <td>20.83</td>\n",
       "      <td>90.20</td>\n",
       "      <td>577.9</td>\n",
       "      <td>0.11890</td>\n",
       "      <td>0.16450</td>\n",
       "      <td>0.09366</td>\n",
       "      <td>0.05985</td>\n",
       "      <td>...</td>\n",
       "      <td>28.14</td>\n",
       "      <td>110.60</td>\n",
       "      <td>897.0</td>\n",
       "      <td>0.1654</td>\n",
       "      <td>0.3682</td>\n",
       "      <td>0.2678</td>\n",
       "      <td>0.1556</td>\n",
       "      <td>0.3196</td>\n",
       "      <td>0.11510</td>\n",
       "      <td>NaN</td>\n",
       "    </tr>\n",
       "    <tr>\n",
       "      <th>8</th>\n",
       "      <td>844981</td>\n",
       "      <td>M</td>\n",
       "      <td>13.00</td>\n",
       "      <td>21.82</td>\n",
       "      <td>87.50</td>\n",
       "      <td>519.8</td>\n",
       "      <td>0.12730</td>\n",
       "      <td>0.19320</td>\n",
       "      <td>0.18590</td>\n",
       "      <td>0.09353</td>\n",
       "      <td>...</td>\n",
       "      <td>30.73</td>\n",
       "      <td>106.20</td>\n",
       "      <td>739.3</td>\n",
       "      <td>0.1703</td>\n",
       "      <td>0.5401</td>\n",
       "      <td>0.5390</td>\n",
       "      <td>0.2060</td>\n",
       "      <td>0.4378</td>\n",
       "      <td>0.10720</td>\n",
       "      <td>NaN</td>\n",
       "    </tr>\n",
       "    <tr>\n",
       "      <th>9</th>\n",
       "      <td>84501001</td>\n",
       "      <td>M</td>\n",
       "      <td>12.46</td>\n",
       "      <td>24.04</td>\n",
       "      <td>83.97</td>\n",
       "      <td>475.9</td>\n",
       "      <td>0.11860</td>\n",
       "      <td>0.23960</td>\n",
       "      <td>0.22730</td>\n",
       "      <td>0.08543</td>\n",
       "      <td>...</td>\n",
       "      <td>40.68</td>\n",
       "      <td>97.65</td>\n",
       "      <td>711.4</td>\n",
       "      <td>0.1853</td>\n",
       "      <td>1.0580</td>\n",
       "      <td>1.1050</td>\n",
       "      <td>0.2210</td>\n",
       "      <td>0.4366</td>\n",
       "      <td>0.20750</td>\n",
       "      <td>NaN</td>\n",
       "    </tr>\n",
       "  </tbody>\n",
       "</table>\n",
       "<p>10 rows × 33 columns</p>\n",
       "</div>"
      ],
      "text/plain": [
       "         id diagnosis  radius_mean  texture_mean  perimeter_mean  area_mean  \\\n",
       "0    842302         M        17.99         10.38          122.80     1001.0   \n",
       "1    842517         M        20.57         17.77          132.90     1326.0   \n",
       "2  84300903         M        19.69         21.25          130.00     1203.0   \n",
       "3  84348301         M        11.42         20.38           77.58      386.1   \n",
       "4  84358402         M        20.29         14.34          135.10     1297.0   \n",
       "5    843786         M        12.45         15.70           82.57      477.1   \n",
       "6    844359         M        18.25         19.98          119.60     1040.0   \n",
       "7  84458202         M        13.71         20.83           90.20      577.9   \n",
       "8    844981         M        13.00         21.82           87.50      519.8   \n",
       "9  84501001         M        12.46         24.04           83.97      475.9   \n",
       "\n",
       "   smoothness_mean  compactness_mean  concavity_mean  concave points_mean  \\\n",
       "0          0.11840           0.27760         0.30010              0.14710   \n",
       "1          0.08474           0.07864         0.08690              0.07017   \n",
       "2          0.10960           0.15990         0.19740              0.12790   \n",
       "3          0.14250           0.28390         0.24140              0.10520   \n",
       "4          0.10030           0.13280         0.19800              0.10430   \n",
       "5          0.12780           0.17000         0.15780              0.08089   \n",
       "6          0.09463           0.10900         0.11270              0.07400   \n",
       "7          0.11890           0.16450         0.09366              0.05985   \n",
       "8          0.12730           0.19320         0.18590              0.09353   \n",
       "9          0.11860           0.23960         0.22730              0.08543   \n",
       "\n",
       "   ...  texture_worst  perimeter_worst  area_worst  smoothness_worst  \\\n",
       "0  ...          17.33           184.60      2019.0            0.1622   \n",
       "1  ...          23.41           158.80      1956.0            0.1238   \n",
       "2  ...          25.53           152.50      1709.0            0.1444   \n",
       "3  ...          26.50            98.87       567.7            0.2098   \n",
       "4  ...          16.67           152.20      1575.0            0.1374   \n",
       "5  ...          23.75           103.40       741.6            0.1791   \n",
       "6  ...          27.66           153.20      1606.0            0.1442   \n",
       "7  ...          28.14           110.60       897.0            0.1654   \n",
       "8  ...          30.73           106.20       739.3            0.1703   \n",
       "9  ...          40.68            97.65       711.4            0.1853   \n",
       "\n",
       "   compactness_worst  concavity_worst  concave points_worst  symmetry_worst  \\\n",
       "0             0.6656           0.7119                0.2654          0.4601   \n",
       "1             0.1866           0.2416                0.1860          0.2750   \n",
       "2             0.4245           0.4504                0.2430          0.3613   \n",
       "3             0.8663           0.6869                0.2575          0.6638   \n",
       "4             0.2050           0.4000                0.1625          0.2364   \n",
       "5             0.5249           0.5355                0.1741          0.3985   \n",
       "6             0.2576           0.3784                0.1932          0.3063   \n",
       "7             0.3682           0.2678                0.1556          0.3196   \n",
       "8             0.5401           0.5390                0.2060          0.4378   \n",
       "9             1.0580           1.1050                0.2210          0.4366   \n",
       "\n",
       "   fractal_dimension_worst  Unnamed: 32  \n",
       "0                  0.11890          NaN  \n",
       "1                  0.08902          NaN  \n",
       "2                  0.08758          NaN  \n",
       "3                  0.17300          NaN  \n",
       "4                  0.07678          NaN  \n",
       "5                  0.12440          NaN  \n",
       "6                  0.08368          NaN  \n",
       "7                  0.11510          NaN  \n",
       "8                  0.10720          NaN  \n",
       "9                  0.20750          NaN  \n",
       "\n",
       "[10 rows x 33 columns]"
      ]
     },
     "execution_count": 9,
     "metadata": {},
     "output_type": "execute_result"
    }
   ],
   "source": [
    "data = pd.read_csv('breast_cancer/data.csv')\n",
    "data.head(10)"
   ]
  },
  {
   "cell_type": "code",
   "execution_count": 10,
   "metadata": {},
   "outputs": [],
   "source": [
    "# Deelete the last column!\n",
    "del data['Unnamed: 32']"
   ]
  },
  {
   "cell_type": "markdown",
   "metadata": {},
   "source": [
    "## The Solution: Deep Learning"
   ]
  },
  {
   "cell_type": "markdown",
   "metadata": {},
   "source": [
    "Read features and label"
   ]
  },
  {
   "cell_type": "code",
   "execution_count": 11,
   "metadata": {},
   "outputs": [],
   "source": [
    "#Skip the first two columns: The ID and the diagnosis\n",
    "X = data.iloc[:, 2:].values\n",
    "\n",
    "# Now, read the diagnosis\n",
    "y = data.iloc[:, 1].values"
   ]
  },
  {
   "cell_type": "markdown",
   "metadata": {},
   "source": [
    "Encoding categorical data"
   ]
  },
  {
   "cell_type": "code",
   "execution_count": 12,
   "metadata": {},
   "outputs": [],
   "source": [
    "from sklearn.preprocessing import LabelEncoder\n",
    "\n",
    "labelencoder_X_1 = LabelEncoder()\n",
    "y = labelencoder_X_1.fit_transform(y)"
   ]
  },
  {
   "cell_type": "markdown",
   "metadata": {},
   "source": [
    "Splitting the dataset into the Training set and Test set"
   ]
  },
  {
   "cell_type": "code",
   "execution_count": 13,
   "metadata": {},
   "outputs": [],
   "source": [
    "from sklearn.model_selection import train_test_split\n",
    "X_train, X_valid, y_train, y_valid = train_test_split(X, y, test_size = 0.2, random_state = 0)"
   ]
  },
  {
   "cell_type": "markdown",
   "metadata": {},
   "source": [
    "## Exploring the Dataset"
   ]
  },
  {
   "cell_type": "code",
   "execution_count": 14,
   "metadata": {},
   "outputs": [
    {
     "data": {
      "text/html": [
       "<div>\n",
       "<style scoped>\n",
       "    .dataframe tbody tr th:only-of-type {\n",
       "        vertical-align: middle;\n",
       "    }\n",
       "\n",
       "    .dataframe tbody tr th {\n",
       "        vertical-align: top;\n",
       "    }\n",
       "\n",
       "    .dataframe thead th {\n",
       "        text-align: right;\n",
       "    }\n",
       "</style>\n",
       "<table border=\"1\" class=\"dataframe\">\n",
       "  <thead>\n",
       "    <tr style=\"text-align: right;\">\n",
       "      <th></th>\n",
       "      <th>id</th>\n",
       "      <th>radius_mean</th>\n",
       "      <th>texture_mean</th>\n",
       "      <th>perimeter_mean</th>\n",
       "      <th>area_mean</th>\n",
       "      <th>smoothness_mean</th>\n",
       "      <th>compactness_mean</th>\n",
       "      <th>concavity_mean</th>\n",
       "      <th>concave points_mean</th>\n",
       "      <th>symmetry_mean</th>\n",
       "      <th>...</th>\n",
       "      <th>radius_worst</th>\n",
       "      <th>texture_worst</th>\n",
       "      <th>perimeter_worst</th>\n",
       "      <th>area_worst</th>\n",
       "      <th>smoothness_worst</th>\n",
       "      <th>compactness_worst</th>\n",
       "      <th>concavity_worst</th>\n",
       "      <th>concave points_worst</th>\n",
       "      <th>symmetry_worst</th>\n",
       "      <th>fractal_dimension_worst</th>\n",
       "    </tr>\n",
       "  </thead>\n",
       "  <tbody>\n",
       "    <tr>\n",
       "      <th>count</th>\n",
       "      <td>5.690000e+02</td>\n",
       "      <td>569.000000</td>\n",
       "      <td>569.000000</td>\n",
       "      <td>569.000000</td>\n",
       "      <td>569.000000</td>\n",
       "      <td>569.000000</td>\n",
       "      <td>569.000000</td>\n",
       "      <td>569.000000</td>\n",
       "      <td>569.000000</td>\n",
       "      <td>569.000000</td>\n",
       "      <td>...</td>\n",
       "      <td>569.000000</td>\n",
       "      <td>569.000000</td>\n",
       "      <td>569.000000</td>\n",
       "      <td>569.000000</td>\n",
       "      <td>569.000000</td>\n",
       "      <td>569.000000</td>\n",
       "      <td>569.000000</td>\n",
       "      <td>569.000000</td>\n",
       "      <td>569.000000</td>\n",
       "      <td>569.000000</td>\n",
       "    </tr>\n",
       "    <tr>\n",
       "      <th>mean</th>\n",
       "      <td>3.037183e+07</td>\n",
       "      <td>14.127292</td>\n",
       "      <td>19.289649</td>\n",
       "      <td>91.969033</td>\n",
       "      <td>654.889104</td>\n",
       "      <td>0.096360</td>\n",
       "      <td>0.104341</td>\n",
       "      <td>0.088799</td>\n",
       "      <td>0.048919</td>\n",
       "      <td>0.181162</td>\n",
       "      <td>...</td>\n",
       "      <td>16.269190</td>\n",
       "      <td>25.677223</td>\n",
       "      <td>107.261213</td>\n",
       "      <td>880.583128</td>\n",
       "      <td>0.132369</td>\n",
       "      <td>0.254265</td>\n",
       "      <td>0.272188</td>\n",
       "      <td>0.114606</td>\n",
       "      <td>0.290076</td>\n",
       "      <td>0.083946</td>\n",
       "    </tr>\n",
       "    <tr>\n",
       "      <th>std</th>\n",
       "      <td>1.250206e+08</td>\n",
       "      <td>3.524049</td>\n",
       "      <td>4.301036</td>\n",
       "      <td>24.298981</td>\n",
       "      <td>351.914129</td>\n",
       "      <td>0.014064</td>\n",
       "      <td>0.052813</td>\n",
       "      <td>0.079720</td>\n",
       "      <td>0.038803</td>\n",
       "      <td>0.027414</td>\n",
       "      <td>...</td>\n",
       "      <td>4.833242</td>\n",
       "      <td>6.146258</td>\n",
       "      <td>33.602542</td>\n",
       "      <td>569.356993</td>\n",
       "      <td>0.022832</td>\n",
       "      <td>0.157336</td>\n",
       "      <td>0.208624</td>\n",
       "      <td>0.065732</td>\n",
       "      <td>0.061867</td>\n",
       "      <td>0.018061</td>\n",
       "    </tr>\n",
       "    <tr>\n",
       "      <th>min</th>\n",
       "      <td>8.670000e+03</td>\n",
       "      <td>6.981000</td>\n",
       "      <td>9.710000</td>\n",
       "      <td>43.790000</td>\n",
       "      <td>143.500000</td>\n",
       "      <td>0.052630</td>\n",
       "      <td>0.019380</td>\n",
       "      <td>0.000000</td>\n",
       "      <td>0.000000</td>\n",
       "      <td>0.106000</td>\n",
       "      <td>...</td>\n",
       "      <td>7.930000</td>\n",
       "      <td>12.020000</td>\n",
       "      <td>50.410000</td>\n",
       "      <td>185.200000</td>\n",
       "      <td>0.071170</td>\n",
       "      <td>0.027290</td>\n",
       "      <td>0.000000</td>\n",
       "      <td>0.000000</td>\n",
       "      <td>0.156500</td>\n",
       "      <td>0.055040</td>\n",
       "    </tr>\n",
       "    <tr>\n",
       "      <th>25%</th>\n",
       "      <td>8.692180e+05</td>\n",
       "      <td>11.700000</td>\n",
       "      <td>16.170000</td>\n",
       "      <td>75.170000</td>\n",
       "      <td>420.300000</td>\n",
       "      <td>0.086370</td>\n",
       "      <td>0.064920</td>\n",
       "      <td>0.029560</td>\n",
       "      <td>0.020310</td>\n",
       "      <td>0.161900</td>\n",
       "      <td>...</td>\n",
       "      <td>13.010000</td>\n",
       "      <td>21.080000</td>\n",
       "      <td>84.110000</td>\n",
       "      <td>515.300000</td>\n",
       "      <td>0.116600</td>\n",
       "      <td>0.147200</td>\n",
       "      <td>0.114500</td>\n",
       "      <td>0.064930</td>\n",
       "      <td>0.250400</td>\n",
       "      <td>0.071460</td>\n",
       "    </tr>\n",
       "    <tr>\n",
       "      <th>50%</th>\n",
       "      <td>9.060240e+05</td>\n",
       "      <td>13.370000</td>\n",
       "      <td>18.840000</td>\n",
       "      <td>86.240000</td>\n",
       "      <td>551.100000</td>\n",
       "      <td>0.095870</td>\n",
       "      <td>0.092630</td>\n",
       "      <td>0.061540</td>\n",
       "      <td>0.033500</td>\n",
       "      <td>0.179200</td>\n",
       "      <td>...</td>\n",
       "      <td>14.970000</td>\n",
       "      <td>25.410000</td>\n",
       "      <td>97.660000</td>\n",
       "      <td>686.500000</td>\n",
       "      <td>0.131300</td>\n",
       "      <td>0.211900</td>\n",
       "      <td>0.226700</td>\n",
       "      <td>0.099930</td>\n",
       "      <td>0.282200</td>\n",
       "      <td>0.080040</td>\n",
       "    </tr>\n",
       "    <tr>\n",
       "      <th>75%</th>\n",
       "      <td>8.813129e+06</td>\n",
       "      <td>15.780000</td>\n",
       "      <td>21.800000</td>\n",
       "      <td>104.100000</td>\n",
       "      <td>782.700000</td>\n",
       "      <td>0.105300</td>\n",
       "      <td>0.130400</td>\n",
       "      <td>0.130700</td>\n",
       "      <td>0.074000</td>\n",
       "      <td>0.195700</td>\n",
       "      <td>...</td>\n",
       "      <td>18.790000</td>\n",
       "      <td>29.720000</td>\n",
       "      <td>125.400000</td>\n",
       "      <td>1084.000000</td>\n",
       "      <td>0.146000</td>\n",
       "      <td>0.339100</td>\n",
       "      <td>0.382900</td>\n",
       "      <td>0.161400</td>\n",
       "      <td>0.317900</td>\n",
       "      <td>0.092080</td>\n",
       "    </tr>\n",
       "    <tr>\n",
       "      <th>max</th>\n",
       "      <td>9.113205e+08</td>\n",
       "      <td>28.110000</td>\n",
       "      <td>39.280000</td>\n",
       "      <td>188.500000</td>\n",
       "      <td>2501.000000</td>\n",
       "      <td>0.163400</td>\n",
       "      <td>0.345400</td>\n",
       "      <td>0.426800</td>\n",
       "      <td>0.201200</td>\n",
       "      <td>0.304000</td>\n",
       "      <td>...</td>\n",
       "      <td>36.040000</td>\n",
       "      <td>49.540000</td>\n",
       "      <td>251.200000</td>\n",
       "      <td>4254.000000</td>\n",
       "      <td>0.222600</td>\n",
       "      <td>1.058000</td>\n",
       "      <td>1.252000</td>\n",
       "      <td>0.291000</td>\n",
       "      <td>0.663800</td>\n",
       "      <td>0.207500</td>\n",
       "    </tr>\n",
       "  </tbody>\n",
       "</table>\n",
       "<p>8 rows × 31 columns</p>\n",
       "</div>"
      ],
      "text/plain": [
       "                 id  radius_mean  texture_mean  perimeter_mean    area_mean  \\\n",
       "count  5.690000e+02   569.000000    569.000000      569.000000   569.000000   \n",
       "mean   3.037183e+07    14.127292     19.289649       91.969033   654.889104   \n",
       "std    1.250206e+08     3.524049      4.301036       24.298981   351.914129   \n",
       "min    8.670000e+03     6.981000      9.710000       43.790000   143.500000   \n",
       "25%    8.692180e+05    11.700000     16.170000       75.170000   420.300000   \n",
       "50%    9.060240e+05    13.370000     18.840000       86.240000   551.100000   \n",
       "75%    8.813129e+06    15.780000     21.800000      104.100000   782.700000   \n",
       "max    9.113205e+08    28.110000     39.280000      188.500000  2501.000000   \n",
       "\n",
       "       smoothness_mean  compactness_mean  concavity_mean  concave points_mean  \\\n",
       "count       569.000000        569.000000      569.000000           569.000000   \n",
       "mean          0.096360          0.104341        0.088799             0.048919   \n",
       "std           0.014064          0.052813        0.079720             0.038803   \n",
       "min           0.052630          0.019380        0.000000             0.000000   \n",
       "25%           0.086370          0.064920        0.029560             0.020310   \n",
       "50%           0.095870          0.092630        0.061540             0.033500   \n",
       "75%           0.105300          0.130400        0.130700             0.074000   \n",
       "max           0.163400          0.345400        0.426800             0.201200   \n",
       "\n",
       "       symmetry_mean  ...  radius_worst  texture_worst  perimeter_worst  \\\n",
       "count     569.000000  ...    569.000000     569.000000       569.000000   \n",
       "mean        0.181162  ...     16.269190      25.677223       107.261213   \n",
       "std         0.027414  ...      4.833242       6.146258        33.602542   \n",
       "min         0.106000  ...      7.930000      12.020000        50.410000   \n",
       "25%         0.161900  ...     13.010000      21.080000        84.110000   \n",
       "50%         0.179200  ...     14.970000      25.410000        97.660000   \n",
       "75%         0.195700  ...     18.790000      29.720000       125.400000   \n",
       "max         0.304000  ...     36.040000      49.540000       251.200000   \n",
       "\n",
       "        area_worst  smoothness_worst  compactness_worst  concavity_worst  \\\n",
       "count   569.000000        569.000000         569.000000       569.000000   \n",
       "mean    880.583128          0.132369           0.254265         0.272188   \n",
       "std     569.356993          0.022832           0.157336         0.208624   \n",
       "min     185.200000          0.071170           0.027290         0.000000   \n",
       "25%     515.300000          0.116600           0.147200         0.114500   \n",
       "50%     686.500000          0.131300           0.211900         0.226700   \n",
       "75%    1084.000000          0.146000           0.339100         0.382900   \n",
       "max    4254.000000          0.222600           1.058000         1.252000   \n",
       "\n",
       "       concave points_worst  symmetry_worst  fractal_dimension_worst  \n",
       "count            569.000000      569.000000               569.000000  \n",
       "mean               0.114606        0.290076                 0.083946  \n",
       "std                0.065732        0.061867                 0.018061  \n",
       "min                0.000000        0.156500                 0.055040  \n",
       "25%                0.064930        0.250400                 0.071460  \n",
       "50%                0.099930        0.282200                 0.080040  \n",
       "75%                0.161400        0.317900                 0.092080  \n",
       "max                0.291000        0.663800                 0.207500  \n",
       "\n",
       "[8 rows x 31 columns]"
      ]
     },
     "execution_count": 14,
     "metadata": {},
     "output_type": "execute_result"
    }
   ],
   "source": [
    "data.describe()"
   ]
  },
  {
   "cell_type": "code",
   "execution_count": 15,
   "metadata": {},
   "outputs": [
    {
     "data": {
      "text/plain": [
       "id                           int64\n",
       "diagnosis                   object\n",
       "radius_mean                float64\n",
       "texture_mean               float64\n",
       "perimeter_mean             float64\n",
       "area_mean                  float64\n",
       "smoothness_mean            float64\n",
       "compactness_mean           float64\n",
       "concavity_mean             float64\n",
       "concave points_mean        float64\n",
       "symmetry_mean              float64\n",
       "fractal_dimension_mean     float64\n",
       "radius_se                  float64\n",
       "texture_se                 float64\n",
       "perimeter_se               float64\n",
       "area_se                    float64\n",
       "smoothness_se              float64\n",
       "compactness_se             float64\n",
       "concavity_se               float64\n",
       "concave points_se          float64\n",
       "symmetry_se                float64\n",
       "fractal_dimension_se       float64\n",
       "radius_worst               float64\n",
       "texture_worst              float64\n",
       "perimeter_worst            float64\n",
       "area_worst                 float64\n",
       "smoothness_worst           float64\n",
       "compactness_worst          float64\n",
       "concavity_worst            float64\n",
       "concave points_worst       float64\n",
       "symmetry_worst             float64\n",
       "fractal_dimension_worst    float64\n",
       "dtype: object"
      ]
     },
     "execution_count": 15,
     "metadata": {},
     "output_type": "execute_result"
    }
   ],
   "source": [
    "data.dtypes"
   ]
  },
  {
   "cell_type": "code",
   "execution_count": 16,
   "metadata": {},
   "outputs": [
    {
     "data": {
      "text/plain": [
       "(455, 30)"
      ]
     },
     "execution_count": 16,
     "metadata": {},
     "output_type": "execute_result"
    }
   ],
   "source": [
    "X_train.shape"
   ]
  },
  {
   "cell_type": "code",
   "execution_count": 17,
   "metadata": {},
   "outputs": [
    {
     "data": {
      "text/plain": [
       "(114,)"
      ]
     },
     "execution_count": 17,
     "metadata": {},
     "output_type": "execute_result"
    }
   ],
   "source": [
    "X_valid.shape\n",
    "y_valid.shape"
   ]
  },
  {
   "cell_type": "markdown",
   "metadata": {},
   "source": [
    "Furthermore, we can see that these 28x28 images are represented as a collection of unsigned 8-bit integer values between 0 and 255, the values corresponding with a pixel's grayscale value where `0` is black, `255` is white, and all other values are in between:"
   ]
  },
  {
   "cell_type": "code",
   "execution_count": 18,
   "metadata": {},
   "outputs": [
    {
     "data": {
      "text/plain": [
       "dtype('float64')"
      ]
     },
     "execution_count": 18,
     "metadata": {},
     "output_type": "execute_result"
    }
   ],
   "source": [
    "X_train.dtype"
   ]
  },
  {
   "cell_type": "code",
   "execution_count": 19,
   "metadata": {},
   "outputs": [
    {
     "data": {
      "text/plain": [
       "0.0"
      ]
     },
     "execution_count": 19,
     "metadata": {},
     "output_type": "execute_result"
    }
   ],
   "source": [
    "X_train.min()"
   ]
  },
  {
   "cell_type": "code",
   "execution_count": 20,
   "metadata": {},
   "outputs": [
    {
     "data": {
      "text/plain": [
       "4254.0"
      ]
     },
     "execution_count": 20,
     "metadata": {},
     "output_type": "execute_result"
    }
   ],
   "source": [
    "X_train.max()"
   ]
  },
  {
   "cell_type": "code",
   "execution_count": 21,
   "metadata": {},
   "outputs": [
    {
     "data": {
      "text/plain": [
       "array([1.005e+01, 1.753e+01, 6.441e+01, 3.108e+02, 1.007e-01, 7.326e-02,\n",
       "       2.511e-02, 1.775e-02, 1.890e-01, 6.331e-02, 2.619e-01, 2.015e+00,\n",
       "       1.778e+00, 1.685e+01, 7.803e-03, 1.449e-02, 1.690e-02, 8.043e-03,\n",
       "       2.100e-02, 2.778e-03, 1.116e+01, 2.684e+01, 7.198e+01, 3.840e+02,\n",
       "       1.402e-01, 1.402e-01, 1.055e-01, 6.499e-02, 2.894e-01, 7.664e-02])"
      ]
     },
     "execution_count": 21,
     "metadata": {},
     "output_type": "execute_result"
    }
   ],
   "source": [
    "X_train[0]"
   ]
  },
  {
   "cell_type": "code",
   "execution_count": 24,
   "metadata": {},
   "outputs": [
    {
     "data": {
      "image/png": "[encoded data removed]",
      "text/plain": [
       "<Figure size 640x480 with 1 Axes>"
      ]
     },
     "metadata": {},
     "output_type": "display_data"
    }
   ],
   "source": [
    "import seaborn as sns\n",
    "ax = sns.countplot(x=data[\"diagnosis\"], width=0.5)"
   ]
  },
  {
   "cell_type": "markdown",
   "metadata": {},
   "source": [
    "### Scaling!"
   ]
  },
  {
   "cell_type": "markdown",
   "metadata": {},
   "source": [
    "Let us scale the features!"
   ]
  },
  {
   "cell_type": "code",
   "execution_count": 25,
   "metadata": {},
   "outputs": [],
   "source": [
    "from sklearn.preprocessing import StandardScaler\n",
    "\n",
    "sc = StandardScaler()\n",
    "X_train = sc.fit_transform(X_train)\n",
    "X_valid = sc.transform(X_valid)"
   ]
  },
  {
   "cell_type": "markdown",
   "metadata": {},
   "source": [
    "And now notice the difference!"
   ]
  },
  {
   "cell_type": "code",
   "execution_count": 26,
   "metadata": {},
   "outputs": [
    {
     "data": {
      "text/plain": [
       "array([-1.15036482, -0.39064196, -1.12855021, -0.95876358,  0.3109837 ,\n",
       "       -0.5959945 , -0.80259612, -0.80249002,  0.29453906,  0.0942515 ,\n",
       "       -0.4950523 ,  1.48720153, -0.51448782, -0.49154005,  0.28149837,\n",
       "       -0.60451206, -0.46900701, -0.61170002,  0.05798237, -0.35763702,\n",
       "       -1.0431756 ,  0.21353282, -1.0360446 , -0.84880771,  0.34249851,\n",
       "       -0.73009743, -0.81232053, -0.75798367, -0.01614761, -0.38503402])"
      ]
     },
     "execution_count": 26,
     "metadata": {},
     "output_type": "execute_result"
    }
   ],
   "source": [
    "X_train[0]"
   ]
  },
  {
   "cell_type": "markdown",
   "metadata": {},
   "source": [
    "## Creating the Model"
   ]
  },
  {
   "cell_type": "markdown",
   "metadata": {},
   "source": [
    "With the data prepared for training, it is now time to create the model that we will train with the data. This first basic model will be made up of several *layers* and will be comprised of 3 main parts:\n",
    "\n",
    "1. An input layer, which will receive data in some expected format\n",
    "2. Several [hidden layers](https://developers.google.com/machine-learning/glossary#hidden-layer), each comprised of many *neurons*. Each [neuron](https://developers.google.com/machine-learning/glossary#neuron) will have the ability to affect the network's guess with its *weights*, which are values that will be updated over many iterations as the network gets feedback on its performance and learns\n",
    "3. An output layer, which will output the prediction"
   ]
  },
  {
   "cell_type": "markdown",
   "metadata": {},
   "source": [
    "### Instantiating the Model"
   ]
  },
  {
   "cell_type": "markdown",
   "metadata": {},
   "source": [
    "To begin, we will use Keras's [Sequential](https://www.tensorflow.org/api_docs/python/tf/keras/Sequential) model class to instantiate an instance of a model that will have a series of layers that data will pass through in sequence:"
   ]
  },
  {
   "cell_type": "code",
   "execution_count": 27,
   "metadata": {},
   "outputs": [],
   "source": [
    "from tensorflow.keras.models import Sequential\n",
    "\n",
    "model = Sequential()"
   ]
  },
  {
   "cell_type": "markdown",
   "metadata": {},
   "source": [
    "### Creating the Input Layer"
   ]
  },
  {
   "cell_type": "markdown",
   "metadata": {},
   "source": [
    "Next, we will add the input layer. This layer will be *densely connected*, meaning that each neuron in it, and its weights, will affect every neuron in the next layer. To do this with Keras, we use Keras's [Dense](https://www.tensorflow.org/api_docs/python/tf/keras/layers/Dense) layer class."
   ]
  },
  {
   "cell_type": "code",
   "execution_count": 28,
   "metadata": {},
   "outputs": [],
   "source": [
    "from tensorflow.keras.layers import Dense, Dropout"
   ]
  },
  {
   "cell_type": "markdown",
   "metadata": {},
   "source": [
    "We will learn more about activation functions later, but for now, we will use the `relu` activation function, which in short, will help our network to learn how to make more sophisticated guesses about data than if it were required to make guesses based on some strictly linear function."
   ]
  },
  {
   "cell_type": "code",
   "execution_count": 31,
   "metadata": {},
   "outputs": [],
   "source": [
    "model.add(Dense(units=30, activation='relu', input_shape=(30,)))"
   ]
  },
  {
   "cell_type": "markdown",
   "metadata": {},
   "source": [
    "Adding dropout to prevent overfitting.  More about this one later :-)"
   ]
  },
  {
   "cell_type": "code",
   "execution_count": 32,
   "metadata": {},
   "outputs": [],
   "source": [
    "model.add(Dropout(rate=0.1))"
   ]
  },
  {
   "cell_type": "markdown",
   "metadata": {},
   "source": [
    "### Creating the Hidden Layer"
   ]
  },
  {
   "cell_type": "markdown",
   "metadata": {},
   "source": [
    "Now we will add an additional densely connected layer. Again, much more will be said about these later, but for now know that these layers give the network more parameters to contribute towards its guesses, and therefore, more subtle opportunities for accurate learning:"
   ]
  },
  {
   "cell_type": "code",
   "execution_count": 33,
   "metadata": {},
   "outputs": [],
   "source": [
    "model.add(Dense(units = 16, activation='relu'))\n",
    "model.add(Dropout(rate=0.1))"
   ]
  },
  {
   "cell_type": "markdown",
   "metadata": {},
   "source": [
    "### Creating the Output Layer"
   ]
  },
  {
   "cell_type": "markdown",
   "metadata": {},
   "source": [
    "Finally, we will add an output layer. This layer uses the activation function `sigmoid` which will result with an output probability between 0 and 1.  The reason is that this is a classification problem and we the prediction is the highest value:"
   ]
  },
  {
   "cell_type": "code",
   "execution_count": 34,
   "metadata": {},
   "outputs": [],
   "source": [
    "model.add(Dense(units = 1, activation='sigmoid'))"
   ]
  },
  {
   "cell_type": "markdown",
   "metadata": {},
   "source": [
    "### Summarizing the Model"
   ]
  },
  {
   "cell_type": "markdown",
   "metadata": {},
   "source": [
    "Keras provides the model instance method [summary](https://www.tensorflow.org/api_docs/python/tf/summary) which will print a readable summary of a model:"
   ]
  },
  {
   "cell_type": "code",
   "execution_count": 35,
   "metadata": {},
   "outputs": [
    {
     "name": "stdout",
     "output_type": "stream",
     "text": [
      "Model: \"sequential\"\n",
      "_________________________________________________________________\n",
      " Layer (type)                Output Shape              Param #   \n",
      "=================================================================\n",
      " dense (Dense)               (None, 45)                1395      \n",
      "                                                                 \n",
      " dense_1 (Dense)             (None, 30)                1380      \n",
      "                                                                 \n",
      " dense_2 (Dense)             (None, 30)                930       \n",
      "                                                                 \n",
      " dropout (Dropout)           (None, 30)                0         \n",
      "                                                                 \n",
      " dense_3 (Dense)             (None, 16)                496       \n",
      "                                                                 \n",
      " dropout_1 (Dropout)         (None, 16)                0         \n",
      "                                                                 \n",
      " dense_4 (Dense)             (None, 1)                 17        \n",
      "                                                                 \n",
      "=================================================================\n",
      "Total params: 4218 (16.48 KB)\n",
      "Trainable params: 4218 (16.48 KB)\n",
      "Non-trainable params: 0 (0.00 Byte)\n",
      "_________________________________________________________________\n"
     ]
    }
   ],
   "source": [
    "model.summary()"
   ]
  },
  {
   "cell_type": "markdown",
   "metadata": {},
   "source": [
    "Note the number of trainable parameters. Each of these can be adjusted during training and will contribute towards the trained model's guesses."
   ]
  },
  {
   "cell_type": "markdown",
   "metadata": {},
   "source": [
    "### Compiling the Model"
   ]
  },
  {
   "cell_type": "markdown",
   "metadata": {},
   "source": [
    "Again, more details are to follow, but the final step we need to do before we can actually train our model with data is to [compile](https://www.tensorflow.org/api_docs/python/tf/keras/Sequential#compile) it. Here we specify a [loss function](https://developers.google.com/machine-learning/glossary#loss) which will be used for the model to understand how well it is performing during training. We also specify that we would like to track `accuracy` while the model trains:"
   ]
  },
  {
   "cell_type": "code",
   "execution_count": 36,
   "metadata": {},
   "outputs": [],
   "source": [
    "model.compile(optimizer='adam', loss='binary_crossentropy', metrics=['accuracy'])"
   ]
  },
  {
   "cell_type": "markdown",
   "metadata": {},
   "source": [
    "## Training the Model"
   ]
  },
  {
   "cell_type": "markdown",
   "metadata": {},
   "source": [
    "Now that we have prepared training and validation data, and a model, it's time to train our model with our training data, and verify it with its validation data.\n",
    "\n",
    "\"Training a model with data\" is often also called \"fitting a model to data.\" Put this latter way, it highlights that the shape of the model changes over time to more accurately understand the data that it is being given.\n",
    "\n",
    "When fitting (training) a model with Keras, we use the model's [fit](https://www.tensorflow.org/api_docs/python/tf/keras/Model#fit) method. It expects the following arguments:\n",
    "\n",
    "* The training data\n",
    "* The labels for the training data\n",
    "* The number of times it should train on the entire training dataset (called an *epoch*)\n",
    "* The validation or test data, and its labels\n",
    "\n",
    "Run the cell below to train the model. We will discuss its output after the training completes:"
   ]
  },
  {
   "cell_type": "code",
   "execution_count": 37,
   "metadata": {},
   "outputs": [
    {
     "name": "stdout",
     "output_type": "stream",
     "text": [
      "Epoch 1/150\n",
      "15/15 [==============================] - 0s 6ms/step - loss: 0.5529 - accuracy: 0.7011 - val_loss: 0.4465 - val_accuracy: 0.7982\n",
      "Epoch 2/150\n",
      "15/15 [==============================] - 0s 1ms/step - loss: 0.3623 - accuracy: 0.8901 - val_loss: 0.3146 - val_accuracy: 0.9035\n",
      "Epoch 3/150\n",
      "15/15 [==============================] - 0s 2ms/step - loss: 0.2359 - accuracy: 0.9363 - val_loss: 0.2253 - val_accuracy: 0.9123\n",
      "Epoch 4/150\n",
      "15/15 [==============================] - 0s 2ms/step - loss: 0.1690 - accuracy: 0.9538 - val_loss: 0.1747 - val_accuracy: 0.9035\n",
      "Epoch 5/150\n",
      "15/15 [==============================] - 0s 1ms/step - loss: 0.1187 - accuracy: 0.9670 - val_loss: 0.1483 - val_accuracy: 0.9211\n",
      "Epoch 6/150\n",
      "15/15 [==============================] - 0s 1ms/step - loss: 0.0855 - accuracy: 0.9780 - val_loss: 0.1314 - val_accuracy: 0.9386\n",
      "Epoch 7/150\n",
      "15/15 [==============================] - 0s 1ms/step - loss: 0.0746 - accuracy: 0.9780 - val_loss: 0.1186 - val_accuracy: 0.9474\n",
      "Epoch 8/150\n",
      "15/15 [==============================] - 0s 1ms/step - loss: 0.0665 - accuracy: 0.9846 - val_loss: 0.1138 - val_accuracy: 0.9474\n",
      "Epoch 9/150\n",
      "15/15 [==============================] - 0s 2ms/step - loss: 0.0646 - accuracy: 0.9824 - val_loss: 0.1192 - val_accuracy: 0.9474\n",
      "Epoch 10/150\n",
      "15/15 [==============================] - 0s 1ms/step - loss: 0.0512 - accuracy: 0.9912 - val_loss: 0.1194 - val_accuracy: 0.9561\n",
      "Epoch 11/150\n",
      "15/15 [==============================] - 0s 2ms/step - loss: 0.0463 - accuracy: 0.9912 - val_loss: 0.1194 - val_accuracy: 0.9561\n",
      "Epoch 12/150\n",
      "15/15 [==============================] - 0s 1ms/step - loss: 0.0432 - accuracy: 0.9868 - val_loss: 0.1200 - val_accuracy: 0.9474\n",
      "Epoch 13/150\n",
      "15/15 [==============================] - 0s 1ms/step - loss: 0.0419 - accuracy: 0.9868 - val_loss: 0.1213 - val_accuracy: 0.9561\n",
      "Epoch 14/150\n",
      "15/15 [==============================] - 0s 1ms/step - loss: 0.0358 - accuracy: 0.9912 - val_loss: 0.1305 - val_accuracy: 0.9649\n",
      "Epoch 15/150\n",
      "15/15 [==============================] - 0s 1ms/step - loss: 0.0329 - accuracy: 0.9912 - val_loss: 0.1344 - val_accuracy: 0.9561\n",
      "Epoch 16/150\n",
      "15/15 [==============================] - 0s 1ms/step - loss: 0.0301 - accuracy: 0.9956 - val_loss: 0.1377 - val_accuracy: 0.9561\n",
      "Epoch 17/150\n",
      "15/15 [==============================] - 0s 2ms/step - loss: 0.0261 - accuracy: 0.9934 - val_loss: 0.1265 - val_accuracy: 0.9561\n",
      "Epoch 18/150\n",
      "15/15 [==============================] - 0s 2ms/step - loss: 0.0263 - accuracy: 0.9890 - val_loss: 0.1372 - val_accuracy: 0.9561\n",
      "Epoch 19/150\n",
      "15/15 [==============================] - 0s 1ms/step - loss: 0.0206 - accuracy: 0.9978 - val_loss: 0.1355 - val_accuracy: 0.9561\n",
      "Epoch 20/150\n",
      "15/15 [==============================] - 0s 1ms/step - loss: 0.0191 - accuracy: 0.9956 - val_loss: 0.1329 - val_accuracy: 0.9561\n",
      "Epoch 21/150\n",
      "15/15 [==============================] - 0s 1ms/step - loss: 0.0166 - accuracy: 0.9978 - val_loss: 0.1311 - val_accuracy: 0.9561\n",
      "Epoch 22/150\n",
      "15/15 [==============================] - 0s 1ms/step - loss: 0.0131 - accuracy: 0.9978 - val_loss: 0.1316 - val_accuracy: 0.9561\n",
      "Epoch 23/150\n",
      "15/15 [==============================] - 0s 1ms/step - loss: 0.0143 - accuracy: 0.9978 - val_loss: 0.1239 - val_accuracy: 0.9561\n",
      "Epoch 24/150\n",
      "15/15 [==============================] - 0s 1ms/step - loss: 0.0143 - accuracy: 0.9978 - val_loss: 0.1255 - val_accuracy: 0.9561\n",
      "Epoch 25/150\n",
      "15/15 [==============================] - 0s 1ms/step - loss: 0.0124 - accuracy: 0.9978 - val_loss: 0.1233 - val_accuracy: 0.9561\n",
      "Epoch 26/150\n",
      "15/15 [==============================] - 0s 1ms/step - loss: 0.0105 - accuracy: 0.9978 - val_loss: 0.1190 - val_accuracy: 0.9561\n",
      "Epoch 27/150\n",
      "15/15 [==============================] - 0s 1ms/step - loss: 0.0086 - accuracy: 0.9978 - val_loss: 0.1098 - val_accuracy: 0.9561\n",
      "Epoch 28/150\n",
      "15/15 [==============================] - 0s 1ms/step - loss: 0.0081 - accuracy: 0.9978 - val_loss: 0.1029 - val_accuracy: 0.9561\n",
      "Epoch 29/150\n",
      "15/15 [==============================] - 0s 1ms/step - loss: 0.0090 - accuracy: 0.9978 - val_loss: 0.1050 - val_accuracy: 0.9649\n",
      "Epoch 30/150\n",
      "15/15 [==============================] - 0s 1ms/step - loss: 0.0101 - accuracy: 0.9956 - val_loss: 0.1224 - val_accuracy: 0.9474\n",
      "Epoch 31/150\n",
      "15/15 [==============================] - 0s 1ms/step - loss: 0.0096 - accuracy: 0.9956 - val_loss: 0.0915 - val_accuracy: 0.9561\n",
      "Epoch 32/150\n",
      "15/15 [==============================] - 0s 1ms/step - loss: 0.0067 - accuracy: 0.9978 - val_loss: 0.0962 - val_accuracy: 0.9561\n",
      "Epoch 33/150\n",
      "15/15 [==============================] - 0s 1ms/step - loss: 0.0053 - accuracy: 0.9978 - val_loss: 0.1075 - val_accuracy: 0.9649\n",
      "Epoch 34/150\n",
      "15/15 [==============================] - 0s 1ms/step - loss: 0.0081 - accuracy: 0.9978 - val_loss: 0.0823 - val_accuracy: 0.9737\n",
      "Epoch 35/150\n",
      "15/15 [==============================] - 0s 1ms/step - loss: 0.0049 - accuracy: 1.0000 - val_loss: 0.0885 - val_accuracy: 0.9649\n",
      "Epoch 36/150\n",
      "15/15 [==============================] - 0s 1ms/step - loss: 0.0045 - accuracy: 1.0000 - val_loss: 0.0856 - val_accuracy: 0.9649\n",
      "Epoch 37/150\n",
      "15/15 [==============================] - 0s 1ms/step - loss: 0.0047 - accuracy: 0.9978 - val_loss: 0.0864 - val_accuracy: 0.9649\n",
      "Epoch 38/150\n",
      "15/15 [==============================] - 0s 1ms/step - loss: 0.0037 - accuracy: 1.0000 - val_loss: 0.1094 - val_accuracy: 0.9649\n",
      "Epoch 39/150\n",
      "15/15 [==============================] - 0s 6ms/step - loss: 0.0031 - accuracy: 1.0000 - val_loss: 0.1106 - val_accuracy: 0.9737\n",
      "Epoch 40/150\n",
      "15/15 [==============================] - 0s 1ms/step - loss: 0.0033 - accuracy: 1.0000 - val_loss: 0.1131 - val_accuracy: 0.9737\n",
      "Epoch 41/150\n",
      "15/15 [==============================] - 0s 1ms/step - loss: 0.0017 - accuracy: 1.0000 - val_loss: 0.1225 - val_accuracy: 0.9649\n",
      "Epoch 42/150\n",
      "15/15 [==============================] - 0s 1ms/step - loss: 0.0033 - accuracy: 1.0000 - val_loss: 0.1239 - val_accuracy: 0.9649\n",
      "Epoch 43/150\n",
      "15/15 [==============================] - 0s 1ms/step - loss: 0.0060 - accuracy: 0.9978 - val_loss: 0.1240 - val_accuracy: 0.9561\n",
      "Epoch 44/150\n",
      "15/15 [==============================] - 0s 1ms/step - loss: 0.0016 - accuracy: 1.0000 - val_loss: 0.1093 - val_accuracy: 0.9737\n",
      "Epoch 45/150\n",
      "15/15 [==============================] - 0s 1ms/step - loss: 0.0013 - accuracy: 1.0000 - val_loss: 0.1123 - val_accuracy: 0.9737\n",
      "Epoch 46/150\n",
      "15/15 [==============================] - 0s 1ms/step - loss: 0.0013 - accuracy: 1.0000 - val_loss: 0.1164 - val_accuracy: 0.9737\n",
      "Epoch 47/150\n",
      "15/15 [==============================] - 0s 1ms/step - loss: 0.0016 - accuracy: 1.0000 - val_loss: 0.1151 - val_accuracy: 0.9737\n",
      "Epoch 48/150\n",
      "15/15 [==============================] - 0s 1ms/step - loss: 7.3574e-04 - accuracy: 1.0000 - val_loss: 0.1154 - val_accuracy: 0.9737\n",
      "Epoch 49/150\n",
      "15/15 [==============================] - 0s 1ms/step - loss: 9.4567e-04 - accuracy: 1.0000 - val_loss: 0.1179 - val_accuracy: 0.9737\n",
      "Epoch 50/150\n",
      "15/15 [==============================] - 0s 1ms/step - loss: 7.9579e-04 - accuracy: 1.0000 - val_loss: 0.1195 - val_accuracy: 0.9737\n",
      "Epoch 51/150\n",
      "15/15 [==============================] - 0s 1ms/step - loss: 9.9155e-04 - accuracy: 1.0000 - val_loss: 0.1232 - val_accuracy: 0.9737\n",
      "Epoch 52/150\n",
      "15/15 [==============================] - 0s 1ms/step - loss: 0.0011 - accuracy: 1.0000 - val_loss: 0.1265 - val_accuracy: 0.9737\n",
      "Epoch 53/150\n",
      "15/15 [==============================] - 0s 1ms/step - loss: 6.7977e-04 - accuracy: 1.0000 - val_loss: 0.1297 - val_accuracy: 0.9737\n",
      "Epoch 54/150\n",
      "15/15 [==============================] - 0s 1ms/step - loss: 0.0018 - accuracy: 1.0000 - val_loss: 0.1182 - val_accuracy: 0.9737\n",
      "Epoch 55/150\n",
      "15/15 [==============================] - 0s 1ms/step - loss: 8.1657e-04 - accuracy: 1.0000 - val_loss: 0.1065 - val_accuracy: 0.9737\n",
      "Epoch 56/150\n",
      "15/15 [==============================] - 0s 1ms/step - loss: 0.0013 - accuracy: 1.0000 - val_loss: 0.1054 - val_accuracy: 0.9737\n",
      "Epoch 57/150\n",
      "15/15 [==============================] - 0s 1ms/step - loss: 0.0015 - accuracy: 1.0000 - val_loss: 0.1092 - val_accuracy: 0.9737\n",
      "Epoch 58/150\n",
      "15/15 [==============================] - 0s 1ms/step - loss: 8.4768e-04 - accuracy: 1.0000 - val_loss: 0.1145 - val_accuracy: 0.9737\n",
      "Epoch 59/150\n",
      "15/15 [==============================] - 0s 1ms/step - loss: 7.3486e-04 - accuracy: 1.0000 - val_loss: 0.1215 - val_accuracy: 0.9737\n",
      "Epoch 60/150\n",
      "15/15 [==============================] - 0s 1ms/step - loss: 3.0863e-04 - accuracy: 1.0000 - val_loss: 0.1227 - val_accuracy: 0.9737\n",
      "Epoch 61/150\n",
      "15/15 [==============================] - 0s 1ms/step - loss: 4.7252e-04 - accuracy: 1.0000 - val_loss: 0.1200 - val_accuracy: 0.9737\n",
      "Epoch 62/150\n",
      "15/15 [==============================] - 0s 1ms/step - loss: 5.9406e-04 - accuracy: 1.0000 - val_loss: 0.1251 - val_accuracy: 0.9737\n",
      "Epoch 63/150\n",
      "15/15 [==============================] - 0s 1ms/step - loss: 2.4121e-04 - accuracy: 1.0000 - val_loss: 0.1303 - val_accuracy: 0.9737\n",
      "Epoch 64/150\n",
      "15/15 [==============================] - 0s 1ms/step - loss: 8.3234e-04 - accuracy: 1.0000 - val_loss: 0.1490 - val_accuracy: 0.9737\n",
      "Epoch 65/150\n",
      "15/15 [==============================] - 0s 1ms/step - loss: 3.9131e-04 - accuracy: 1.0000 - val_loss: 0.1601 - val_accuracy: 0.9737\n",
      "Epoch 66/150\n",
      "15/15 [==============================] - 0s 1ms/step - loss: 2.9593e-04 - accuracy: 1.0000 - val_loss: 0.1635 - val_accuracy: 0.9737\n",
      "Epoch 67/150\n",
      "15/15 [==============================] - 0s 1ms/step - loss: 6.1298e-04 - accuracy: 1.0000 - val_loss: 0.1738 - val_accuracy: 0.9737\n",
      "Epoch 68/150\n",
      "15/15 [==============================] - 0s 1ms/step - loss: 6.3684e-04 - accuracy: 1.0000 - val_loss: 0.1747 - val_accuracy: 0.9737\n",
      "Epoch 69/150\n",
      "15/15 [==============================] - 0s 1ms/step - loss: 4.6720e-04 - accuracy: 1.0000 - val_loss: 0.1761 - val_accuracy: 0.9737\n",
      "Epoch 70/150\n",
      "15/15 [==============================] - 0s 1ms/step - loss: 3.8096e-04 - accuracy: 1.0000 - val_loss: 0.1765 - val_accuracy: 0.9737\n",
      "Epoch 71/150\n",
      "15/15 [==============================] - 0s 1ms/step - loss: 3.8318e-04 - accuracy: 1.0000 - val_loss: 0.1780 - val_accuracy: 0.9737\n",
      "Epoch 72/150\n",
      "15/15 [==============================] - 0s 1ms/step - loss: 2.8749e-04 - accuracy: 1.0000 - val_loss: 0.1764 - val_accuracy: 0.9737\n",
      "Epoch 73/150\n",
      "15/15 [==============================] - 0s 1ms/step - loss: 3.1224e-04 - accuracy: 1.0000 - val_loss: 0.1772 - val_accuracy: 0.9737\n",
      "Epoch 74/150\n",
      "15/15 [==============================] - 0s 2ms/step - loss: 2.9618e-04 - accuracy: 1.0000 - val_loss: 0.1826 - val_accuracy: 0.9649\n",
      "Epoch 75/150\n",
      "15/15 [==============================] - 0s 2ms/step - loss: 3.6676e-04 - accuracy: 1.0000 - val_loss: 0.1802 - val_accuracy: 0.9649\n",
      "Epoch 76/150\n",
      "15/15 [==============================] - 0s 1ms/step - loss: 6.0620e-04 - accuracy: 1.0000 - val_loss: 0.1849 - val_accuracy: 0.9649\n",
      "Epoch 77/150\n",
      "15/15 [==============================] - 0s 1ms/step - loss: 3.7857e-04 - accuracy: 1.0000 - val_loss: 0.1891 - val_accuracy: 0.9649\n",
      "Epoch 78/150\n",
      "15/15 [==============================] - 0s 1ms/step - loss: 4.8394e-04 - accuracy: 1.0000 - val_loss: 0.1951 - val_accuracy: 0.9649\n",
      "Epoch 79/150\n",
      "15/15 [==============================] - 0s 1ms/step - loss: 8.6104e-04 - accuracy: 1.0000 - val_loss: 0.2034 - val_accuracy: 0.9737\n",
      "Epoch 80/150\n",
      "15/15 [==============================] - 0s 1ms/step - loss: 4.5851e-04 - accuracy: 1.0000 - val_loss: 0.1921 - val_accuracy: 0.9737\n",
      "Epoch 81/150\n",
      "15/15 [==============================] - 0s 1ms/step - loss: 4.5334e-04 - accuracy: 1.0000 - val_loss: 0.1754 - val_accuracy: 0.9737\n",
      "Epoch 82/150\n",
      "15/15 [==============================] - 0s 1ms/step - loss: 5.4659e-04 - accuracy: 1.0000 - val_loss: 0.1695 - val_accuracy: 0.9737\n",
      "Epoch 83/150\n",
      "15/15 [==============================] - 0s 1ms/step - loss: 4.0831e-04 - accuracy: 1.0000 - val_loss: 0.1564 - val_accuracy: 0.9737\n",
      "Epoch 84/150\n",
      "15/15 [==============================] - 0s 1ms/step - loss: 1.4716e-04 - accuracy: 1.0000 - val_loss: 0.1540 - val_accuracy: 0.9737\n",
      "Epoch 85/150\n",
      "15/15 [==============================] - 0s 1ms/step - loss: 5.1932e-04 - accuracy: 1.0000 - val_loss: 0.1547 - val_accuracy: 0.9737\n",
      "Epoch 86/150\n",
      "15/15 [==============================] - 0s 1ms/step - loss: 2.5333e-04 - accuracy: 1.0000 - val_loss: 0.1591 - val_accuracy: 0.9737\n",
      "Epoch 87/150\n",
      "15/15 [==============================] - 0s 1ms/step - loss: 3.4133e-04 - accuracy: 1.0000 - val_loss: 0.1642 - val_accuracy: 0.9737\n",
      "Epoch 88/150\n",
      "15/15 [==============================] - 0s 1ms/step - loss: 2.8790e-04 - accuracy: 1.0000 - val_loss: 0.1605 - val_accuracy: 0.9737\n",
      "Epoch 89/150\n",
      "15/15 [==============================] - 0s 1ms/step - loss: 1.4393e-04 - accuracy: 1.0000 - val_loss: 0.1594 - val_accuracy: 0.9737\n",
      "Epoch 90/150\n",
      "15/15 [==============================] - 0s 1ms/step - loss: 1.1213e-04 - accuracy: 1.0000 - val_loss: 0.1587 - val_accuracy: 0.9737\n",
      "Epoch 91/150\n",
      "15/15 [==============================] - 0s 1ms/step - loss: 8.2845e-04 - accuracy: 1.0000 - val_loss: 0.2170 - val_accuracy: 0.9561\n",
      "Epoch 92/150\n",
      "15/15 [==============================] - 0s 1ms/step - loss: 5.4454e-04 - accuracy: 1.0000 - val_loss: 0.2088 - val_accuracy: 0.9737\n",
      "Epoch 93/150\n",
      "15/15 [==============================] - 0s 1ms/step - loss: 4.2590e-04 - accuracy: 1.0000 - val_loss: 0.1953 - val_accuracy: 0.9737\n",
      "Epoch 94/150\n",
      "15/15 [==============================] - 0s 1ms/step - loss: 2.3720e-04 - accuracy: 1.0000 - val_loss: 0.1870 - val_accuracy: 0.9737\n",
      "Epoch 95/150\n",
      "15/15 [==============================] - 0s 1ms/step - loss: 1.5400e-04 - accuracy: 1.0000 - val_loss: 0.1828 - val_accuracy: 0.9737\n",
      "Epoch 96/150\n",
      "15/15 [==============================] - 0s 1ms/step - loss: 4.2580e-04 - accuracy: 1.0000 - val_loss: 0.1789 - val_accuracy: 0.9737\n",
      "Epoch 97/150\n",
      "15/15 [==============================] - 0s 1ms/step - loss: 3.2464e-04 - accuracy: 1.0000 - val_loss: 0.1779 - val_accuracy: 0.9737\n",
      "Epoch 98/150\n",
      "15/15 [==============================] - 0s 1ms/step - loss: 2.7904e-04 - accuracy: 1.0000 - val_loss: 0.1758 - val_accuracy: 0.9737\n",
      "Epoch 99/150\n",
      "15/15 [==============================] - 0s 1ms/step - loss: 2.6186e-04 - accuracy: 1.0000 - val_loss: 0.1757 - val_accuracy: 0.9737\n",
      "Epoch 100/150\n",
      "15/15 [==============================] - 0s 1ms/step - loss: 2.4374e-04 - accuracy: 1.0000 - val_loss: 0.1788 - val_accuracy: 0.9737\n",
      "Epoch 101/150\n",
      "15/15 [==============================] - 0s 1ms/step - loss: 1.2259e-04 - accuracy: 1.0000 - val_loss: 0.1851 - val_accuracy: 0.9737\n",
      "Epoch 102/150\n",
      "15/15 [==============================] - 0s 1ms/step - loss: 1.5286e-04 - accuracy: 1.0000 - val_loss: 0.1884 - val_accuracy: 0.9737\n",
      "Epoch 103/150\n",
      "15/15 [==============================] - 0s 1ms/step - loss: 2.2950e-04 - accuracy: 1.0000 - val_loss: 0.1883 - val_accuracy: 0.9737\n",
      "Epoch 104/150\n",
      "15/15 [==============================] - 0s 1ms/step - loss: 6.0980e-04 - accuracy: 1.0000 - val_loss: 0.1813 - val_accuracy: 0.9649\n",
      "Epoch 105/150\n",
      "15/15 [==============================] - 0s 1ms/step - loss: 4.7386e-04 - accuracy: 1.0000 - val_loss: 0.1904 - val_accuracy: 0.9649\n",
      "Epoch 106/150\n",
      "15/15 [==============================] - 0s 1ms/step - loss: 1.5152e-04 - accuracy: 1.0000 - val_loss: 0.2050 - val_accuracy: 0.9649\n",
      "Epoch 107/150\n",
      "15/15 [==============================] - 0s 1ms/step - loss: 1.4893e-04 - accuracy: 1.0000 - val_loss: 0.2070 - val_accuracy: 0.9737\n",
      "Epoch 108/150\n",
      "15/15 [==============================] - 0s 1ms/step - loss: 2.3348e-04 - accuracy: 1.0000 - val_loss: 0.2034 - val_accuracy: 0.9737\n",
      "Epoch 109/150\n",
      "15/15 [==============================] - 0s 1ms/step - loss: 1.4232e-04 - accuracy: 1.0000 - val_loss: 0.2038 - val_accuracy: 0.9649\n",
      "Epoch 110/150\n",
      "15/15 [==============================] - 0s 1ms/step - loss: 3.2959e-04 - accuracy: 1.0000 - val_loss: 0.2141 - val_accuracy: 0.9649\n",
      "Epoch 111/150\n",
      "15/15 [==============================] - 0s 1ms/step - loss: 3.6621e-04 - accuracy: 1.0000 - val_loss: 0.2108 - val_accuracy: 0.9561\n",
      "Epoch 112/150\n",
      "15/15 [==============================] - 0s 1ms/step - loss: 0.0027 - accuracy: 0.9978 - val_loss: 0.1322 - val_accuracy: 0.9737\n",
      "Epoch 113/150\n",
      "15/15 [==============================] - 0s 1ms/step - loss: 0.0191 - accuracy: 0.9934 - val_loss: 0.3661 - val_accuracy: 0.9561\n",
      "Epoch 114/150\n",
      "15/15 [==============================] - 0s 1ms/step - loss: 0.0282 - accuracy: 0.9912 - val_loss: 0.4361 - val_accuracy: 0.9649\n",
      "Epoch 115/150\n",
      "15/15 [==============================] - 0s 1ms/step - loss: 0.0385 - accuracy: 0.9956 - val_loss: 0.5013 - val_accuracy: 0.9386\n",
      "Epoch 116/150\n",
      "15/15 [==============================] - 0s 1ms/step - loss: 0.0410 - accuracy: 0.9890 - val_loss: 0.5311 - val_accuracy: 0.9386\n",
      "Epoch 117/150\n",
      "15/15 [==============================] - 0s 1ms/step - loss: 0.0049 - accuracy: 0.9978 - val_loss: 0.4871 - val_accuracy: 0.9649\n",
      "Epoch 118/150\n",
      "15/15 [==============================] - 0s 1ms/step - loss: 0.0112 - accuracy: 0.9912 - val_loss: 0.5606 - val_accuracy: 0.9649\n",
      "Epoch 119/150\n",
      "15/15 [==============================] - 0s 1ms/step - loss: 8.6500e-04 - accuracy: 1.0000 - val_loss: 0.5263 - val_accuracy: 0.9561\n",
      "Epoch 120/150\n",
      "15/15 [==============================] - 0s 1ms/step - loss: 0.0018 - accuracy: 1.0000 - val_loss: 0.5273 - val_accuracy: 0.9561\n",
      "Epoch 121/150\n",
      "15/15 [==============================] - 0s 1ms/step - loss: 6.3323e-04 - accuracy: 1.0000 - val_loss: 0.5340 - val_accuracy: 0.9561\n",
      "Epoch 122/150\n",
      "15/15 [==============================] - 0s 1ms/step - loss: 0.0015 - accuracy: 1.0000 - val_loss: 0.5344 - val_accuracy: 0.9561\n",
      "Epoch 123/150\n",
      "15/15 [==============================] - 0s 1ms/step - loss: 6.9712e-04 - accuracy: 1.0000 - val_loss: 0.5327 - val_accuracy: 0.9561\n",
      "Epoch 124/150\n",
      "15/15 [==============================] - 0s 1ms/step - loss: 5.6655e-04 - accuracy: 1.0000 - val_loss: 0.5355 - val_accuracy: 0.9561\n",
      "Epoch 125/150\n",
      "15/15 [==============================] - 0s 1ms/step - loss: 5.6294e-04 - accuracy: 1.0000 - val_loss: 0.5432 - val_accuracy: 0.9561\n",
      "Epoch 126/150\n",
      "15/15 [==============================] - 0s 1ms/step - loss: 5.7354e-04 - accuracy: 1.0000 - val_loss: 0.5466 - val_accuracy: 0.9561\n",
      "Epoch 127/150\n",
      "15/15 [==============================] - 0s 1ms/step - loss: 8.1231e-04 - accuracy: 1.0000 - val_loss: 0.5506 - val_accuracy: 0.9561\n",
      "Epoch 128/150\n",
      "15/15 [==============================] - 0s 1ms/step - loss: 4.6266e-04 - accuracy: 1.0000 - val_loss: 0.5567 - val_accuracy: 0.9561\n",
      "Epoch 129/150\n",
      "15/15 [==============================] - 0s 1ms/step - loss: 5.1387e-04 - accuracy: 1.0000 - val_loss: 0.5600 - val_accuracy: 0.9561\n",
      "Epoch 130/150\n",
      "15/15 [==============================] - 0s 1ms/step - loss: 5.7206e-04 - accuracy: 1.0000 - val_loss: 0.5628 - val_accuracy: 0.9561\n",
      "Epoch 131/150\n",
      "15/15 [==============================] - 0s 2ms/step - loss: 5.8584e-04 - accuracy: 1.0000 - val_loss: 0.5658 - val_accuracy: 0.9561\n",
      "Epoch 132/150\n",
      "15/15 [==============================] - 0s 1ms/step - loss: 2.0251e-04 - accuracy: 1.0000 - val_loss: 0.5669 - val_accuracy: 0.9561\n",
      "Epoch 133/150\n",
      "15/15 [==============================] - 0s 1ms/step - loss: 5.1435e-04 - accuracy: 1.0000 - val_loss: 0.5663 - val_accuracy: 0.9561\n",
      "Epoch 134/150\n",
      "15/15 [==============================] - 0s 1ms/step - loss: 3.1356e-04 - accuracy: 1.0000 - val_loss: 0.5663 - val_accuracy: 0.9561\n",
      "Epoch 135/150\n",
      "15/15 [==============================] - 0s 1ms/step - loss: 2.1535e-04 - accuracy: 1.0000 - val_loss: 0.5671 - val_accuracy: 0.9561\n",
      "Epoch 136/150\n",
      "15/15 [==============================] - 0s 1ms/step - loss: 2.5772e-04 - accuracy: 1.0000 - val_loss: 0.5693 - val_accuracy: 0.9561\n",
      "Epoch 137/150\n",
      "15/15 [==============================] - 0s 1ms/step - loss: 5.9502e-04 - accuracy: 1.0000 - val_loss: 0.5729 - val_accuracy: 0.9561\n",
      "Epoch 138/150\n",
      "15/15 [==============================] - 0s 1ms/step - loss: 2.0771e-04 - accuracy: 1.0000 - val_loss: 0.5738 - val_accuracy: 0.9561\n",
      "Epoch 139/150\n",
      "15/15 [==============================] - 0s 1ms/step - loss: 6.7954e-04 - accuracy: 1.0000 - val_loss: 0.5786 - val_accuracy: 0.9561\n",
      "Epoch 140/150\n",
      "15/15 [==============================] - 0s 1ms/step - loss: 2.9118e-04 - accuracy: 1.0000 - val_loss: 0.5863 - val_accuracy: 0.9561\n",
      "Epoch 141/150\n",
      "15/15 [==============================] - 0s 1ms/step - loss: 4.9957e-04 - accuracy: 1.0000 - val_loss: 0.5872 - val_accuracy: 0.9561\n",
      "Epoch 142/150\n",
      "15/15 [==============================] - 0s 1ms/step - loss: 2.0374e-04 - accuracy: 1.0000 - val_loss: 0.5888 - val_accuracy: 0.9561\n",
      "Epoch 143/150\n",
      "15/15 [==============================] - 0s 1ms/step - loss: 2.7043e-04 - accuracy: 1.0000 - val_loss: 0.5905 - val_accuracy: 0.9561\n",
      "Epoch 144/150\n",
      "15/15 [==============================] - 0s 1ms/step - loss: 4.5985e-04 - accuracy: 1.0000 - val_loss: 0.5897 - val_accuracy: 0.9561\n",
      "Epoch 145/150\n",
      "15/15 [==============================] - 0s 1ms/step - loss: 3.4235e-04 - accuracy: 1.0000 - val_loss: 0.5924 - val_accuracy: 0.9561\n",
      "Epoch 146/150\n",
      "15/15 [==============================] - 0s 1ms/step - loss: 1.8878e-04 - accuracy: 1.0000 - val_loss: 0.5943 - val_accuracy: 0.9561\n",
      "Epoch 147/150\n",
      "15/15 [==============================] - 0s 1ms/step - loss: 2.2768e-04 - accuracy: 1.0000 - val_loss: 0.5962 - val_accuracy: 0.9561\n",
      "Epoch 148/150\n",
      "15/15 [==============================] - 0s 1ms/step - loss: 6.0581e-04 - accuracy: 1.0000 - val_loss: 0.5988 - val_accuracy: 0.9561\n",
      "Epoch 149/150\n",
      "15/15 [==============================] - 0s 1ms/step - loss: 1.0069e-04 - accuracy: 1.0000 - val_loss: 0.5996 - val_accuracy: 0.9561\n",
      "Epoch 150/150\n",
      "15/15 [==============================] - 0s 1ms/step - loss: 1.8417e-04 - accuracy: 1.0000 - val_loss: 0.6017 - val_accuracy: 0.9561\n"
     ]
    }
   ],
   "source": [
    "history = model.fit(\n",
    "    X_train, y_train, epochs=150, verbose=1, validation_data=(X_valid, y_valid)\n",
    ")"
   ]
  },
  {
   "cell_type": "code",
   "execution_count": 38,
   "metadata": {},
   "outputs": [
    {
     "name": "stdout",
     "output_type": "stream",
     "text": [
      "4/4 [==============================] - 0s 560us/step\n"
     ]
    }
   ],
   "source": [
    "# Predicting the Test set results\n",
    "y_pred = model.predict(X_valid)\n",
    "y_pred = (y_pred > 0.5)"
   ]
  },
  {
   "cell_type": "code",
   "execution_count": 39,
   "metadata": {},
   "outputs": [],
   "source": [
    "# Making the Confusion Matrix\n",
    "from sklearn.metrics import confusion_matrix\n",
    "cm = confusion_matrix(y_valid, y_pred)"
   ]
  },
  {
   "cell_type": "code",
   "execution_count": 40,
   "metadata": {},
   "outputs": [
    {
     "name": "stdout",
     "output_type": "stream",
     "text": [
      "Our accuracy is 95.6140350877193%\n"
     ]
    }
   ],
   "source": [
    "print(\"Our accuracy is {}%\".format(((cm[0][0] + cm[1][1])/114)*100))"
   ]
  },
  {
   "cell_type": "markdown",
   "metadata": {},
   "source": [
    "### Confusion Matrix"
   ]
  },
  {
   "cell_type": "markdown",
   "metadata": {},
   "source": [
    "A confusion matrix represents the prediction summary in matrix form. It shows how many prediction are correct and incorrect per class. It helps in understanding the classes that are being confused by model as other class.  So, (1, 1) and (0,0) are properly predicted, benign or malignant.\n",
    "\n",
    "<img src=\"images/3-s2.0-B9780323911979000138-f14-09-9780323911979.jpg\"/>"
   ]
  },
  {
   "cell_type": "code",
   "execution_count": 41,
   "metadata": {},
   "outputs": [
    {
     "data": {
      "image/png": "[encoded data removed]",
      "text/plain": [
       "<Figure size 640x480 with 2 Axes>"
      ]
     },
     "metadata": {},
     "output_type": "display_data"
    }
   ],
   "source": [
    "import matplotlib.pyplot as plt\n",
    "\n",
    "sns.heatmap(cm,annot=True)\n",
    "plt.savefig('h.png')"
   ]
  },
  {
   "cell_type": "code",
   "execution_count": 42,
   "metadata": {},
   "outputs": [],
   "source": [
    "chart_x = range(1,151)"
   ]
  },
  {
   "cell_type": "code",
   "execution_count": 43,
   "metadata": {},
   "outputs": [
    {
     "name": "stdout",
     "output_type": "stream",
     "text": [
      "dict_keys(['loss', 'accuracy', 'val_loss', 'val_accuracy'])\n"
     ]
    }
   ],
   "source": [
    "chart_y_train = history.history['loss']\n",
    "chart_y_test = history.history['val_loss']\n",
    "print(history.history.keys())"
   ]
  },
  {
   "cell_type": "code",
   "execution_count": 44,
   "metadata": {},
   "outputs": [
    {
     "data": {
      "image/png": "[encoded data removed]",
      "text/plain": [
       "<Figure size 640x480 with 1 Axes>"
      ]
     },
     "metadata": {},
     "output_type": "display_data"
    }
   ],
   "source": [
    "import matplotlib.pyplot as plt\n",
    "\n",
    "def plot_learning():\n",
    "    plt.plot(chart_x, chart_y_train, 'r-',label='training error')\n",
    "    plt.plot(chart_x, chart_y_test, 'b-',\n",
    "    label='test error')\n",
    "    plt.xlabel('training epochs')\n",
    "    plt.ylabel('error')\n",
    "    plt.legend()\n",
    "    plt.show()\n",
    "plot_learning()"
   ]
  },
  {
   "cell_type": "markdown",
   "metadata": {},
   "source": [
    "### Observing Accuracy"
   ]
  },
  {
   "cell_type": "markdown",
   "metadata": {},
   "source": [
    "For each of the 5 epochs, notice the `accuracy` and `val_accuracy` scores. `accuracy` states how well the model did for the epoch on all the training data. `val_accuracy` states how well the model did on the validation data, which if you recall, was not used at all for training the model."
   ]
  },
  {
   "cell_type": "markdown",
   "metadata": {},
   "source": [
    "The model did quite well! The accuracy quickly reached close to 95%, as did the validation accuracy. We now have a model that can be used to accurately detect and classify hand-written images.\n",
    "\n",
    "The next step would be to use this model to classify new not-yet-seen handwritten images. This is called [inference](https://blogs.nvidia.com/blog/2016/08/22/difference-deep-learning-training-inference-ai/). We'll explore the process of inference in a later exercise. "
   ]
  }
 ],
 "metadata": {
  "kernelspec": {
   "display_name": "Python 3",
   "language": "python",
   "name": "python3"
  },
  "language_info": {
   "codemirror_mode": {
    "name": "ipython",
    "version": 3
   },
   "file_extension": ".py",
   "mimetype": "text/x-python",
   "name": "python",
   "nbconvert_exporter": "python",
   "pygments_lexer": "ipython3",
   "version": "3.10.11"
  }
 },
 "nbformat": 4,
 "nbformat_minor": 4
}
